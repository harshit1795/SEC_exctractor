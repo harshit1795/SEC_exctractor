{
 "cells": [
  {
   "cell_type": "code",
   "execution_count": 3,
   "id": "6cb41d01-c98a-4f06-a177-e525e18be0f6",
   "metadata": {
    "tags": []
   },
   "outputs": [],
   "source": [
    "import pandas as pd\n",
    "import boto3\n"
   ]
  },
  {
   "cell_type": "markdown",
   "id": "0b3e7deb-fdbe-489d-a58a-5dc86b1581c7",
   "metadata": {},
   "source": [
    "!apt-get awscli"
   ]
  },
  {
   "cell_type": "markdown",
   "id": "1fda5edf-f37d-4cd6-a8b5-199042158ce5",
   "metadata": {},
   "source": [
    "!apt-get install npm"
   ]
  },
  {
   "cell_type": "markdown",
   "id": "4d8cc0c0-f657-4278-9e9b-c2beed4280a1",
   "metadata": {
    "tags": []
   },
   "source": [
    "!npm install -g serverless"
   ]
  },
  {
   "cell_type": "code",
   "execution_count": 4,
   "id": "515b983b-8778-44b3-b775-fbe18f074f20",
   "metadata": {
    "tags": []
   },
   "outputs": [],
   "source": [
    "bucket_name = 'glue-sec-etl'  # Replace with your bucket name\n",
    "csv_file_key = 'All Reports Data.csv'  # Replace with your desired key for the CSV filenpm install -g npm"
   ]
  },
  {
   "cell_type": "code",
   "execution_count": 5,
   "id": "4d6c0a37-28c7-4548-8fac-363d8c356e53",
   "metadata": {
    "tags": []
   },
   "outputs": [],
   "source": [
    "s3 = boto3.resource('s3')\n",
    "s3.meta.client.upload_file(csv_file_key, bucket_name, csv_file_key)\n"
   ]
  },
  {
   "cell_type": "markdown",
   "id": "40cf4179-1b9e-467e-aceb-fd05036e09ec",
   "metadata": {},
   "source": [
    "Create a Crawler for building a data schema that would support ETL Glue Catalog"
   ]
  },
  {
   "cell_type": "code",
   "execution_count": 38,
   "id": "5fffad01-60ef-48a7-acd0-04343a680671",
   "metadata": {},
   "outputs": [],
   "source": [
    "!aws glue create-crawler --name sec_crawler --role \"arn:aws:iam::125640462731:role/role_glue\" --database-name \"sec_extract\" --targets \"S3Targets=[{Path='s3://glue-sec-etl/sec/'}]\""
   ]
  },
  {
   "cell_type": "markdown",
   "id": "cabf2916-ec1e-48fd-9fe9-b0271e00893f",
   "metadata": {
    "tags": []
   },
   "source": [
    "!aws glue create-crawler --name sec_crawler --role \"arn:aws:iam::125640462731:role/role_glue\" --database-name \"sec_extract\" --targets \"S3Targets=[{Path='s3://glue-sec-etl/All Reports Data.csv'}]\""
   ]
  },
  {
   "cell_type": "code",
   "execution_count": 41,
   "id": "e9bb07f0-3d15-4036-af82-778e0f8c7bd2",
   "metadata": {
    "tags": []
   },
   "outputs": [],
   "source": [
    "!aws glue start-crawler --name sec_crawler"
   ]
  },
  {
   "cell_type": "code",
   "execution_count": 42,
   "id": "453c1742-3fd2-4058-9539-cf5b9a795625",
   "metadata": {
    "tags": []
   },
   "outputs": [
    {
     "name": "stdout",
     "output_type": "stream",
     "text": [
      "CRAWLER\t4423\t1686776042.0\tsec_extract\t1686776042.0\tsec_crawler\trole_glue\tRUNNING\t1\n",
      "LINEAGECONFIGURATION\tDISABLE\n",
      "RECRAWLPOLICY\tCRAWL_EVERYTHING\n",
      "SCHEMACHANGEPOLICY\tDEPRECATE_IN_DATABASE\tUPDATE_IN_DATABASE\n",
      "S3TARGETS\ts3://glue-sec-etl/sec/\n"
     ]
    }
   ],
   "source": [
    "!aws glue get-crawler --name sec_crawler\n"
   ]
  },
  {
   "cell_type": "code",
   "execution_count": 43,
   "id": "4ed42ee1-aada-4c4a-83e0-7825f67ea1b2",
   "metadata": {
    "tags": []
   },
   "outputs": [
    {
     "name": "stdout",
     "output_type": "stream",
     "text": [
      "DATABASELIST\t125640462731\t1686763440.0\tsec_extract\n",
      "PERMISSIONS\tALL\n",
      "PRINCIPAL\tIAM_ALLOWED_PRINCIPALS\n"
     ]
    }
   ],
   "source": [
    "!aws glue get-databases"
   ]
  },
  {
   "cell_type": "code",
   "execution_count": 46,
   "id": "712d6072-fa16-49a0-bf02-630af9401a76",
   "metadata": {
    "tags": []
   },
   "outputs": [
    {
     "name": "stdout",
     "output_type": "stream",
     "text": [
      "TABLELIST\t125640462731\t1686776231.0\tarn:aws:sts::125640462731:assumed-role/role_glue/AWS-Crawler\tsec_extract\tFalse\t1686776230.0\tsec\towner\t0\tEXTERNAL_TABLE\t1686776231.0\n",
      "PARAMETERS\t1.0\t1.0\tsec_crawler\tfalse\t28498\tcsv\ttrue\tnone\t,\t1\t2743\t78185257\t1\tfile\n",
      "STORAGEDESCRIPTOR\tFalse\torg.apache.hadoop.mapred.TextInputFormat\ts3://glue-sec-etl/sec/\t-1\torg.apache.hadoop.hive.ql.io.HiveIgnoreKeyTextOutputFormat\tFalse\n",
      "COLUMNS\tid\tbigint\n",
      "COLUMNS\ttext\tstring\n",
      "COLUMNS\tticker\tstring\n",
      "COLUMNS\tfilepath\tstring\n",
      "COLUMNS\tcategory\tstring\n",
      "PARAMETERS\t1.0\t1.0\tsec_crawler\tfalse\t28498\tcsv\ttrue\tnone\t,\t1\t2743\t78185257\t1\tfile\n",
      "SERDEINFO\torg.apache.hadoop.hive.serde2.lazy.LazySimpleSerDe\n",
      "PARAMETERS\t,\n"
     ]
    }
   ],
   "source": [
    "!aws glue get-tables --database-name sec_extract"
   ]
  },
  {
   "cell_type": "code",
   "execution_count": null,
   "id": "f2de3404-faba-4f46-bbc1-2889cb2a2e92",
   "metadata": {
    "tags": []
   },
   "outputs": [],
   "source": [
    "!aws glue get-table --database-name sec_extract --name all_reports_data_csv"
   ]
  },
  {
   "cell_type": "code",
   "execution_count": null,
   "id": "b89a8c1a-379e-45b7-8d1f-06bc2c6532af",
   "metadata": {
    "tags": []
   },
   "outputs": [],
   "source": [
    "!aws glue get-table --database-name sec_extract --name all_reports_data_csv --output table"
   ]
  },
  {
   "cell_type": "code",
   "execution_count": null,
   "id": "27af3caa-6166-43f5-bbeb-e2b2fe018f82",
   "metadata": {},
   "outputs": [],
   "source": []
  }
 ],
 "metadata": {
  "kernelspec": {
   "display_name": "Python 3 (ipykernel)",
   "language": "python",
   "name": "python3"
  },
  "language_info": {
   "codemirror_mode": {
    "name": "ipython",
    "version": 3
   },
   "file_extension": ".py",
   "mimetype": "text/x-python",
   "name": "python",
   "nbconvert_exporter": "python",
   "pygments_lexer": "ipython3",
   "version": "3.10.11"
  }
 },
 "nbformat": 4,
 "nbformat_minor": 5
}
