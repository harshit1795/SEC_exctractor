{
 "cells": [
  {
   "cell_type": "markdown",
   "metadata": {},
   "source": [
    "# Using SEC EDGAR RESTful data APIs\n",
    "\n",
    "This notebook shows how to retrieve information reported by regulated entities to U.S. Securities and Exchange Commision (SEC).\n",
    "\n",
    "SEC is maintainig EDGAR system with information about all regulated enties (companies, funds, individuals). Accessing the data is free and there is number of [various ways how to access the data](https://www.sec.gov/os/accessing-edgar-data).\n",
    "\n",
    "\"data.sec.gov\" was created to host RESTful data Application Programming Interfaces (APIs) delivering JSON-formatted data to external customers and to web pages on SEC.gov. These APIs do not require any authentication or API keys to access.\n",
    "\n",
    "Currently included in the APIs are the submissions history by filer and the XBRL data from financial statements (forms 10-Q, 10-K,8-K, 20-F, 40-F, 6-K, and their variants).\n",
    "\n",
    "The JSON structures are updated throughout the day, in real time, as submissions are disseminated."
   ]
  },
  {
   "cell_type": "markdown",
   "metadata": {
    "tags": []
   },
   "source": [
    "pip install -r requirements.txt"
   ]
  },
  {
   "cell_type": "markdown",
   "metadata": {
    "tags": []
   },
   "source": [
    "!jupyter nbextension enable --py widgetsnbextension"
   ]
  },
  {
   "cell_type": "code",
   "execution_count": 2,
   "metadata": {
    "_cell_guid": "b1076dfc-b9ad-4769-8c92-a6c4dae69d19",
    "_uuid": "8f2839f25d086af736a60e9eeb907d3b93b6e0e5",
    "tags": []
   },
   "outputs": [],
   "source": [
    "import numpy as np # linear algebra\n",
    "import pandas as pd # data processing, CSV file I/O (e.g. pd.read_csv)\n",
    "import re\n",
    "import unicodedata\n",
    "from bs4 import BeautifulSoup as bs\n",
    "import requests\n",
    "from tqdm.notebook import tqdm\n",
    "import os\n",
    "import warnings\n",
    "import boto3\n",
    "warnings.filterwarnings(\"ignore\")"
   ]
  },
  {
   "cell_type": "code",
   "execution_count": null,
   "metadata": {
    "tags": []
   },
   "outputs": [],
   "source": []
  },
  {
   "cell_type": "markdown",
   "metadata": {},
   "source": [
    "## Finding CIK of company\n",
    "\n",
    "EDGAR assigns to filers a unique numerical identifier, known as a Central Index Key (CIK), when they sign up to make filings to the SEC. CIK numbers remain unique to the filer; they are not recycled. \n",
    "\n",
    "List of all CIKs matched with entity name is available for download [(13 MB, text file)](https://www.sec.gov/Archives/edgar/cik-lookup-data.txt). Note that this list includes funds and individuals and is historically cumulative for company names. Thus a given CIK may be associated with multiple names in the case of company or fund name changes, and the list contains some entities that no longer file with the SEC.\n",
    "\n",
    "We will be using smaller (611 kB) JSON [kaggle dataset](https://www.kaggle.com/datasets/svendaj/sec-edgar-cik-ticker-exchange), which is sourcing data directly at EDGAR and is input for this notebook. This dataset contains only companies names, CIK, ticker and associated stock exchange."
   ]
  },
  {
   "cell_type": "code",
   "execution_count": 3,
   "metadata": {
    "tags": []
   },
   "outputs": [],
   "source": [
    "# Let's convert CIK JSON to pandas DataFrame\n",
    "# First load the data into python dictionary\n",
    "\n",
    "\n",
    "CIK_df=pd.read_json(\"/home/jupyter/SEC_exctractor/company_tickers.json\").T"
   ]
  },
  {
   "cell_type": "code",
   "execution_count": 4,
   "metadata": {
    "tags": []
   },
   "outputs": [
    {
     "data": {
      "text/html": [
       "<div>\n",
       "<style scoped>\n",
       "    .dataframe tbody tr th:only-of-type {\n",
       "        vertical-align: middle;\n",
       "    }\n",
       "\n",
       "    .dataframe tbody tr th {\n",
       "        vertical-align: top;\n",
       "    }\n",
       "\n",
       "    .dataframe thead th {\n",
       "        text-align: right;\n",
       "    }\n",
       "</style>\n",
       "<table border=\"1\" class=\"dataframe\">\n",
       "  <thead>\n",
       "    <tr style=\"text-align: right;\">\n",
       "      <th></th>\n",
       "      <th>cik_str</th>\n",
       "      <th>ticker</th>\n",
       "      <th>title</th>\n",
       "    </tr>\n",
       "  </thead>\n",
       "  <tbody>\n",
       "    <tr>\n",
       "      <th>0</th>\n",
       "      <td>320193</td>\n",
       "      <td>AAPL</td>\n",
       "      <td>Apple Inc.</td>\n",
       "    </tr>\n",
       "    <tr>\n",
       "      <th>1</th>\n",
       "      <td>789019</td>\n",
       "      <td>MSFT</td>\n",
       "      <td>MICROSOFT CORP</td>\n",
       "    </tr>\n",
       "    <tr>\n",
       "      <th>2</th>\n",
       "      <td>1652044</td>\n",
       "      <td>GOOGL</td>\n",
       "      <td>Alphabet Inc.</td>\n",
       "    </tr>\n",
       "    <tr>\n",
       "      <th>3</th>\n",
       "      <td>1018724</td>\n",
       "      <td>AMZN</td>\n",
       "      <td>AMAZON COM INC</td>\n",
       "    </tr>\n",
       "    <tr>\n",
       "      <th>4</th>\n",
       "      <td>1045810</td>\n",
       "      <td>NVDA</td>\n",
       "      <td>NVIDIA CORP</td>\n",
       "    </tr>\n",
       "  </tbody>\n",
       "</table>\n",
       "</div>"
      ],
      "text/plain": [
       "   cik_str ticker           title\n",
       "0   320193   AAPL      Apple Inc.\n",
       "1   789019   MSFT  MICROSOFT CORP\n",
       "2  1652044  GOOGL   Alphabet Inc.\n",
       "3  1018724   AMZN  AMAZON COM INC\n",
       "4  1045810   NVDA     NVIDIA CORP"
      ]
     },
     "execution_count": 4,
     "metadata": {},
     "output_type": "execute_result"
    }
   ],
   "source": [
    "CIK_df.head()"
   ]
  },
  {
   "cell_type": "code",
   "execution_count": 5,
   "metadata": {
    "tags": []
   },
   "outputs": [],
   "source": [
    "CIK_df.rename(columns={'cik_str': 'cik', 'title':'name'}, inplace=True)\n"
   ]
  },
  {
   "cell_type": "markdown",
   "metadata": {},
   "source": [
    "### Finding a particular company based upon the Name they are registered with"
   ]
  },
  {
   "cell_type": "code",
   "execution_count": 6,
   "metadata": {
    "tags": []
   },
   "outputs": [
    {
     "data": {
      "text/html": [
       "<div>\n",
       "<style scoped>\n",
       "    .dataframe tbody tr th:only-of-type {\n",
       "        vertical-align: middle;\n",
       "    }\n",
       "\n",
       "    .dataframe tbody tr th {\n",
       "        vertical-align: top;\n",
       "    }\n",
       "\n",
       "    .dataframe thead th {\n",
       "        text-align: right;\n",
       "    }\n",
       "</style>\n",
       "<table border=\"1\" class=\"dataframe\">\n",
       "  <thead>\n",
       "    <tr style=\"text-align: right;\">\n",
       "      <th></th>\n",
       "      <th>cik</th>\n",
       "      <th>ticker</th>\n",
       "      <th>name</th>\n",
       "    </tr>\n",
       "  </thead>\n",
       "  <tbody>\n",
       "    <tr>\n",
       "      <th>69</th>\n",
       "      <td>101829</td>\n",
       "      <td>RTX</td>\n",
       "      <td>RAYTHEON TECHNOLOGIES CORP</td>\n",
       "    </tr>\n",
       "    <tr>\n",
       "      <th>129</th>\n",
       "      <td>723125</td>\n",
       "      <td>MU</td>\n",
       "      <td>MICRON TECHNOLOGY INC</td>\n",
       "    </tr>\n",
       "    <tr>\n",
       "      <th>136</th>\n",
       "      <td>1543151</td>\n",
       "      <td>UBER</td>\n",
       "      <td>Uber Technologies, Inc</td>\n",
       "    </tr>\n",
       "    <tr>\n",
       "      <th>201</th>\n",
       "      <td>1835632</td>\n",
       "      <td>MRVL</td>\n",
       "      <td>Marvell Technology, Inc.</td>\n",
       "    </tr>\n",
       "    <tr>\n",
       "      <th>233</th>\n",
       "      <td>882835</td>\n",
       "      <td>ROP</td>\n",
       "      <td>ROPER TECHNOLOGIES INC</td>\n",
       "    </tr>\n",
       "    <tr>\n",
       "      <th>...</th>\n",
       "      <td>...</td>\n",
       "      <td>...</td>\n",
       "      <td>...</td>\n",
       "    </tr>\n",
       "    <tr>\n",
       "      <th>9052</th>\n",
       "      <td>1855631</td>\n",
       "      <td>AWINW</td>\n",
       "      <td>AERWINS Technologies Inc.</td>\n",
       "    </tr>\n",
       "    <tr>\n",
       "      <th>9071</th>\n",
       "      <td>1847416</td>\n",
       "      <td>ORIAW</td>\n",
       "      <td>Orion Biotech Opportunities Corp.</td>\n",
       "    </tr>\n",
       "    <tr>\n",
       "      <th>9165</th>\n",
       "      <td>1872964</td>\n",
       "      <td>MTEKW</td>\n",
       "      <td>Maris Tech Ltd.</td>\n",
       "    </tr>\n",
       "    <tr>\n",
       "      <th>9197</th>\n",
       "      <td>1070050</td>\n",
       "      <td>APCXW</td>\n",
       "      <td>AppTech Payments Corp.</td>\n",
       "    </tr>\n",
       "    <tr>\n",
       "      <th>9200</th>\n",
       "      <td>1084267</td>\n",
       "      <td>MOBQW</td>\n",
       "      <td>Mobiquity Technologies, Inc.</td>\n",
       "    </tr>\n",
       "  </tbody>\n",
       "</table>\n",
       "<p>508 rows × 3 columns</p>\n",
       "</div>"
      ],
      "text/plain": [
       "          cik ticker                               name\n",
       "69     101829    RTX         RAYTHEON TECHNOLOGIES CORP\n",
       "129    723125     MU              MICRON TECHNOLOGY INC\n",
       "136   1543151   UBER             Uber Technologies, Inc\n",
       "201   1835632   MRVL           Marvell Technology, Inc.\n",
       "233    882835    ROP             ROPER TECHNOLOGIES INC\n",
       "...       ...    ...                                ...\n",
       "9052  1855631  AWINW          AERWINS Technologies Inc.\n",
       "9071  1847416  ORIAW  Orion Biotech Opportunities Corp.\n",
       "9165  1872964  MTEKW                    Maris Tech Ltd.\n",
       "9197  1070050  APCXW             AppTech Payments Corp.\n",
       "9200  1084267  MOBQW       Mobiquity Technologies, Inc.\n",
       "\n",
       "[508 rows x 3 columns]"
      ]
     },
     "execution_count": 6,
     "metadata": {},
     "output_type": "execute_result"
    }
   ],
   "source": [
    "# finding companies containing substring in company name\n",
    "substring = \"Tech\"\n",
    "CIK_df[CIK_df[\"name\"].str.contains(substring, case=False)]"
   ]
  },
  {
   "cell_type": "markdown",
   "metadata": {},
   "source": [
    "# Entity’s current filing history\n",
    "\n",
    "Each entity’s current filing history is available at the following URL:\n",
    "\n",
    "* https://data.sec.gov/submissions/CIK##########.json\n",
    "\n",
    "Where the ########## is the entity’s 10-digit Central Index Key (CIK), including leading zeros.\n",
    "\n",
    "This JSON data structure contains metadata such as current name, former name, and stock exchanges and ticker symbols of publicly-traded companies. The object’s property path contains at least one year’s of filing or to 1,000 (whichever is more) of the most recent filings in a compact columnar data array. If the entity has additional filings, files will contain an array of additional JSON files and the date range for the filings each one contains."
   ]
  },
  {
   "cell_type": "code",
   "execution_count": 7,
   "metadata": {
    "tags": []
   },
   "outputs": [],
   "source": [
    "# read response from REST API with `requests` library and format it as python dict\n",
    "\n",
    "import requests\n",
    "header_full = {\n",
    "    \"User-Agent\": \"harshit harshit.gola.off@gmail.com\",\n",
    "    \"Accept-Encoding\": \"gzip, deflate\",\n",
    "    \"Host\": \"data.sec.gov\"\n",
    "}\n",
    "\n",
    "\n"
   ]
  },
  {
   "cell_type": "code",
   "execution_count": 8,
   "metadata": {
    "tags": []
   },
   "outputs": [],
   "source": [
    "\n",
    "header = {\n",
    "    \"User-Agent\": \"harshit harshit.gola.off@gmail.com\",\n",
    "}"
   ]
  },
  {
   "cell_type": "markdown",
   "metadata": {},
   "source": [
    "## Select the ticker of company used in this example\n",
    "\n",
    "Subsequent information retrieval will be using selected `ticker` and associated CIK"
   ]
  },
  {
   "cell_type": "code",
   "execution_count": 9,
   "metadata": {
    "tags": []
   },
   "outputs": [],
   "source": [
    "# finding company row with given ticker\n",
    "\n",
    "def get_current_filing_history(url, header):\n",
    "    company_filings = requests.get(url, headers=header).json()\n",
    "    company_filings_df = pd.DataFrame(company_filings[\"filings\"][\"recent\"])\n",
    "    return company_filings_df\n",
    "    "
   ]
  },
  {
   "cell_type": "code",
   "execution_count": null,
   "metadata": {},
   "outputs": [],
   "source": []
  },
  {
   "cell_type": "markdown",
   "metadata": {},
   "source": [
    "## Reading from RESTful API\n",
    "\n",
    "EDGAR requires that HTTP requests will be identified with proper [UserAgent in header and comply with fair use policy (currently max. 10 requests per second)](https://www.sec.gov/os/accessing-edgar-data). At minimum you need to supply your own e-mail adress in User-Agent field (otherwise you will get 403/Forbiden error). If you will provide Host field, please be sure use data.sec.gov server and not www.sec.gov as mentioned in example (this would result in 404/Not Found error)."
   ]
  },
  {
   "cell_type": "markdown",
   "metadata": {},
   "source": [
    "## Creating DataFrame with submitted filings\n",
    "\n",
    "`company_filings[\"filings\"][\"recent\"]` contains up to 1000 last submitted filings sorted from latest to oldest."
   ]
  },
  {
   "cell_type": "code",
   "execution_count": 10,
   "metadata": {
    "tags": []
   },
   "outputs": [],
   "source": [
    "def pull_all_history(df, header):\n",
    "    df_=pd.DataFrame()\n",
    "    for index, row in tqdm(df.iterrows(), total=df.shape[0]):\n",
    "        CIK = row['cik']\n",
    "        url = f\"https://data.sec.gov/submissions/CIK{str(CIK).zfill(10)}.json\"\n",
    "        company_filings_df = get_current_filing_history(url, header)\n",
    "        company_filings_df['ticker']=row['ticker']\n",
    "        company_filings_df['cik']=row['cik']\n",
    "        df_ = pd.concat([company_filings_df, df_])\n",
    "    return df_"
   ]
  },
  {
   "cell_type": "code",
   "execution_count": 12,
   "metadata": {
    "tags": []
   },
   "outputs": [],
   "source": [
    "df_history = pull_all_history(CIK_df[:100], header_full)"
   ]
  },
  {
   "cell_type": "code",
   "execution_count": null,
   "metadata": {},
   "outputs": [],
   "source": [
    "df_history.to_csv('/home/jupyter/SEC_exctractor/data/history.csv', index=False)"
   ]
  },
  {
   "cell_type": "code",
   "execution_count": 13,
   "metadata": {
    "tags": []
   },
   "outputs": [
    {
     "data": {
      "text/html": [
       "<div>\n",
       "<style scoped>\n",
       "    .dataframe tbody tr th:only-of-type {\n",
       "        vertical-align: middle;\n",
       "    }\n",
       "\n",
       "    .dataframe tbody tr th {\n",
       "        vertical-align: top;\n",
       "    }\n",
       "\n",
       "    .dataframe thead th {\n",
       "        text-align: right;\n",
       "    }\n",
       "</style>\n",
       "<table border=\"1\" class=\"dataframe\">\n",
       "  <thead>\n",
       "    <tr style=\"text-align: right;\">\n",
       "      <th></th>\n",
       "      <th>accessionNumber</th>\n",
       "      <th>filingDate</th>\n",
       "      <th>reportDate</th>\n",
       "      <th>acceptanceDateTime</th>\n",
       "      <th>act</th>\n",
       "      <th>form</th>\n",
       "      <th>fileNumber</th>\n",
       "      <th>filmNumber</th>\n",
       "      <th>items</th>\n",
       "      <th>core_type</th>\n",
       "      <th>size</th>\n",
       "      <th>isXBRL</th>\n",
       "      <th>isInlineXBRL</th>\n",
       "      <th>primaryDocument</th>\n",
       "      <th>primaryDocDescription</th>\n",
       "      <th>ticker</th>\n",
       "      <th>cik</th>\n",
       "    </tr>\n",
       "  </thead>\n",
       "  <tbody>\n",
       "    <tr>\n",
       "      <th>0</th>\n",
       "      <td>0000018230-25-000009</td>\n",
       "      <td>2025-02-14</td>\n",
       "      <td></td>\n",
       "      <td>2025-02-14T09:38:46.000Z</td>\n",
       "      <td>34</td>\n",
       "      <td>IRANNOTICE</td>\n",
       "      <td>001-00768</td>\n",
       "      <td>25623988</td>\n",
       "      <td></td>\n",
       "      <td>IRANNOTICE</td>\n",
       "      <td>76041</td>\n",
       "      <td>0</td>\n",
       "      <td>0</td>\n",
       "      <td>catirannotice-202410xk.htm</td>\n",
       "      <td>IRANNOTICE</td>\n",
       "      <td>CAT</td>\n",
       "      <td>18230</td>\n",
       "    </tr>\n",
       "    <tr>\n",
       "      <th>1</th>\n",
       "      <td>0000018230-25-000008</td>\n",
       "      <td>2025-02-14</td>\n",
       "      <td>2024-12-31</td>\n",
       "      <td>2025-02-14T09:36:30.000Z</td>\n",
       "      <td>34</td>\n",
       "      <td>10-K</td>\n",
       "      <td>001-00768</td>\n",
       "      <td>25623971</td>\n",
       "      <td></td>\n",
       "      <td>XBRL</td>\n",
       "      <td>33945394</td>\n",
       "      <td>1</td>\n",
       "      <td>1</td>\n",
       "      <td>cat-20241231.htm</td>\n",
       "      <td>10-K</td>\n",
       "      <td>CAT</td>\n",
       "      <td>18230</td>\n",
       "    </tr>\n",
       "    <tr>\n",
       "      <th>2</th>\n",
       "      <td>0001104659-25-012855</td>\n",
       "      <td>2025-02-13</td>\n",
       "      <td>2025-02-11</td>\n",
       "      <td>2025-02-13T14:41:51.000Z</td>\n",
       "      <td></td>\n",
       "      <td>4</td>\n",
       "      <td></td>\n",
       "      <td></td>\n",
       "      <td></td>\n",
       "      <td>4</td>\n",
       "      <td>8873</td>\n",
       "      <td>0</td>\n",
       "      <td>0</td>\n",
       "      <td>xslF345X05/tm255985-10_4seq1.xml</td>\n",
       "      <td>OWNERSHIP DOCUMENT</td>\n",
       "      <td>CAT</td>\n",
       "      <td>18230</td>\n",
       "    </tr>\n",
       "    <tr>\n",
       "      <th>3</th>\n",
       "      <td>0001104659-25-012854</td>\n",
       "      <td>2025-02-13</td>\n",
       "      <td>2025-02-11</td>\n",
       "      <td>2025-02-13T14:40:49.000Z</td>\n",
       "      <td></td>\n",
       "      <td>4</td>\n",
       "      <td></td>\n",
       "      <td></td>\n",
       "      <td></td>\n",
       "      <td>4</td>\n",
       "      <td>6563</td>\n",
       "      <td>0</td>\n",
       "      <td>0</td>\n",
       "      <td>xslF345X05/tm255985-9_4seq1.xml</td>\n",
       "      <td>OWNERSHIP DOCUMENT</td>\n",
       "      <td>CAT</td>\n",
       "      <td>18230</td>\n",
       "    </tr>\n",
       "    <tr>\n",
       "      <th>4</th>\n",
       "      <td>0001104659-25-012853</td>\n",
       "      <td>2025-02-13</td>\n",
       "      <td>2025-02-11</td>\n",
       "      <td>2025-02-13T14:39:50.000Z</td>\n",
       "      <td></td>\n",
       "      <td>4</td>\n",
       "      <td></td>\n",
       "      <td></td>\n",
       "      <td></td>\n",
       "      <td>4</td>\n",
       "      <td>6513</td>\n",
       "      <td>0</td>\n",
       "      <td>0</td>\n",
       "      <td>xslF345X05/tm255985-8_4seq1.xml</td>\n",
       "      <td>OWNERSHIP DOCUMENT</td>\n",
       "      <td>CAT</td>\n",
       "      <td>18230</td>\n",
       "    </tr>\n",
       "  </tbody>\n",
       "</table>\n",
       "</div>"
      ],
      "text/plain": [
       "        accessionNumber  filingDate  reportDate        acceptanceDateTime act   \n",
       "0  0000018230-25-000009  2025-02-14              2025-02-14T09:38:46.000Z  34  \\\n",
       "1  0000018230-25-000008  2025-02-14  2024-12-31  2025-02-14T09:36:30.000Z  34   \n",
       "2  0001104659-25-012855  2025-02-13  2025-02-11  2025-02-13T14:41:51.000Z       \n",
       "3  0001104659-25-012854  2025-02-13  2025-02-11  2025-02-13T14:40:49.000Z       \n",
       "4  0001104659-25-012853  2025-02-13  2025-02-11  2025-02-13T14:39:50.000Z       \n",
       "\n",
       "         form fileNumber filmNumber items   core_type      size  isXBRL   \n",
       "0  IRANNOTICE  001-00768   25623988        IRANNOTICE     76041       0  \\\n",
       "1        10-K  001-00768   25623971              XBRL  33945394       1   \n",
       "2           4                                       4      8873       0   \n",
       "3           4                                       4      6563       0   \n",
       "4           4                                       4      6513       0   \n",
       "\n",
       "   isInlineXBRL                   primaryDocument primaryDocDescription   \n",
       "0             0        catirannotice-202410xk.htm            IRANNOTICE  \\\n",
       "1             1                  cat-20241231.htm                  10-K   \n",
       "2             0  xslF345X05/tm255985-10_4seq1.xml    OWNERSHIP DOCUMENT   \n",
       "3             0   xslF345X05/tm255985-9_4seq1.xml    OWNERSHIP DOCUMENT   \n",
       "4             0   xslF345X05/tm255985-8_4seq1.xml    OWNERSHIP DOCUMENT   \n",
       "\n",
       "  ticker    cik  \n",
       "0    CAT  18230  \n",
       "1    CAT  18230  \n",
       "2    CAT  18230  \n",
       "3    CAT  18230  \n",
       "4    CAT  18230  "
      ]
     },
     "execution_count": 13,
     "metadata": {},
     "output_type": "execute_result"
    }
   ],
   "source": [
    "df_history.head()"
   ]
  },
  {
   "cell_type": "code",
   "execution_count": 14,
   "metadata": {},
   "outputs": [
    {
     "data": {
      "text/plain": [
       "(142253, 17)"
      ]
     },
     "execution_count": 14,
     "metadata": {},
     "output_type": "execute_result"
    }
   ],
   "source": [
    "df_history.shape"
   ]
  },
  {
   "cell_type": "code",
   "execution_count": 15,
   "metadata": {},
   "outputs": [],
   "source": [
    "df_history.to_csv('/home/jupyter/SEC_exctractor/data/history.csv', index=False)"
   ]
  },
  {
   "cell_type": "markdown",
   "metadata": {},
   "source": [
    "## Accessing specific filing document\n",
    "\n",
    "Let's download latest Annual Report (10-K). Files are stored in browsable directory structure for CIK and accession-number: \n",
    "* https://www.sec.gov/Archives/edgar/data/{CIK}/{accession-number}/"
   ]
  },
  {
   "cell_type": "markdown",
   "metadata": {
    "tags": []
   },
   "source": [
    "Creating a function to create a url and run loop for all the items to download each of the filing htm file"
   ]
  },
  {
   "cell_type": "code",
   "execution_count": 16,
   "metadata": {
    "tags": []
   },
   "outputs": [],
   "source": [
    "def download_all_forms(df, form, header):\n",
    "    df_ = df[df.form == form]\n",
    "    for index, row in tqdm(df_.iterrows(), total=df_.shape[0]):\n",
    "        url = f\"https://www.sec.gov/Archives/edgar/data/{row['cik']}/{row['accessionNumber'].replace('-', '')}/{row['primaryDocument']}\"\n",
    "        req_content = requests.get(url, headers=header).content.decode(\"utf-8\")\n",
    "        directory = f\"data/{row['ticker']}\"\n",
    "        if not os.path.exists(directory):\n",
    "            os.makedirs(directory)\n",
    "\n",
    "        with open(f\"{directory}/{row['primaryDocument']}\", \"w\") as f:\n",
    "            f.write(req_content)"
   ]
  },
  {
   "cell_type": "markdown",
   "metadata": {},
   "source": [
    "This step is to download all the 10K htm files for the 100 most recent filings into the data folder."
   ]
  },
  {
   "cell_type": "code",
   "execution_count": 17,
   "metadata": {
    "tags": []
   },
   "outputs": [
    {
     "data": {
      "application/vnd.jupyter.widget-view+json": {
       "model_id": "8d6042784b414f789f8044a230dd666a",
       "version_major": 2,
       "version_minor": 0
      },
      "text/plain": [
       "  0%|          | 0/540 [00:00<?, ?it/s]"
      ]
     },
     "metadata": {},
     "output_type": "display_data"
    }
   ],
   "source": [
    "download_all_forms(df_history, '10-K', header)\n",
    "    "
   ]
  },
  {
   "cell_type": "code",
   "execution_count": null,
   "metadata": {},
   "outputs": [],
   "source": []
  }
 ],
 "metadata": {
  "environment": {
   "kernel": "python3",
   "name": "common-cpu.m108",
   "type": "gcloud",
   "uri": "gcr.io/deeplearning-platform-release/base-cpu:m108"
  },
  "kernelspec": {
   "display_name": "Python 3 (ipykernel)",
   "language": "python",
   "name": "python3"
  }
 },
 "nbformat": 4,
 "nbformat_minor": 4
}
